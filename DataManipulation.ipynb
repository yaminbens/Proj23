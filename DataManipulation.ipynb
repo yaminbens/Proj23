{
 "cells": [
  {
   "cell_type": "code",
   "execution_count": 1,
   "id": "4b0ced8e",
   "metadata": {},
   "outputs": [
    {
     "name": "stderr",
     "output_type": "stream",
     "text": [
      "/home/yaminb/.local/lib/python3.10/site-packages/tqdm/auto.py:21: TqdmWarning: IProgress not found. Please update jupyter and ipywidgets. See https://ipywidgets.readthedocs.io/en/stable/user_install.html\n",
      "  from .autonotebook import tqdm as notebook_tqdm\n"
     ]
    }
   ],
   "source": [
    "# import plumed\n",
    "import matplotlib.pyplot as plt\n",
    "import plumed\n",
    "import MDAnalysis"
   ]
  },
  {
   "cell_type": "code",
   "execution_count": 47,
   "id": "9c7c210f",
   "metadata": {
    "scrolled": true
   },
   "outputs": [
    {
     "name": "stderr",
     "output_type": "stream",
     "text": [
      "/tmp/ipykernel_21887/787437704.py:5: ParserWarning: Falling back to the 'python' engine because the 'c' engine does not support skipfooter; you can avoid this warning by specifying engine='python'.\n",
      "  df = pd.read_csv('metadNa/dump/dump350.50000.lammpstrj',\n"
     ]
    },
    {
     "data": {
      "text/html": [
       "<div>\n",
       "<style scoped>\n",
       "    .dataframe tbody tr th:only-of-type {\n",
       "        vertical-align: middle;\n",
       "    }\n",
       "\n",
       "    .dataframe tbody tr th {\n",
       "        vertical-align: top;\n",
       "    }\n",
       "\n",
       "    .dataframe thead th {\n",
       "        text-align: right;\n",
       "    }\n",
       "</style>\n",
       "<table border=\"1\" class=\"dataframe\">\n",
       "  <thead>\n",
       "    <tr style=\"text-align: right;\">\n",
       "      <th></th>\n",
       "      <th>0</th>\n",
       "      <th>2</th>\n",
       "      <th>3</th>\n",
       "      <th>4</th>\n",
       "    </tr>\n",
       "  </thead>\n",
       "  <tbody>\n",
       "    <tr>\n",
       "      <th>0</th>\n",
       "      <td>36</td>\n",
       "      <td>0.331316</td>\n",
       "      <td>0.026683</td>\n",
       "      <td>0.160130</td>\n",
       "    </tr>\n",
       "    <tr>\n",
       "      <th>1</th>\n",
       "      <td>21</td>\n",
       "      <td>0.228327</td>\n",
       "      <td>0.238400</td>\n",
       "      <td>0.290456</td>\n",
       "    </tr>\n",
       "    <tr>\n",
       "      <th>2</th>\n",
       "      <td>226</td>\n",
       "      <td>0.097822</td>\n",
       "      <td>0.447153</td>\n",
       "      <td>0.045229</td>\n",
       "    </tr>\n",
       "    <tr>\n",
       "      <th>3</th>\n",
       "      <td>216</td>\n",
       "      <td>0.141983</td>\n",
       "      <td>0.276363</td>\n",
       "      <td>0.154604</td>\n",
       "    </tr>\n",
       "    <tr>\n",
       "      <th>4</th>\n",
       "      <td>162</td>\n",
       "      <td>0.186804</td>\n",
       "      <td>0.108334</td>\n",
       "      <td>0.152810</td>\n",
       "    </tr>\n",
       "    <tr>\n",
       "      <th>...</th>\n",
       "      <td>...</td>\n",
       "      <td>...</td>\n",
       "      <td>...</td>\n",
       "      <td>...</td>\n",
       "    </tr>\n",
       "    <tr>\n",
       "      <th>245</th>\n",
       "      <td>39</td>\n",
       "      <td>0.655349</td>\n",
       "      <td>0.689952</td>\n",
       "      <td>0.912165</td>\n",
       "    </tr>\n",
       "    <tr>\n",
       "      <th>246</th>\n",
       "      <td>246</td>\n",
       "      <td>0.624092</td>\n",
       "      <td>0.866215</td>\n",
       "      <td>0.869713</td>\n",
       "    </tr>\n",
       "    <tr>\n",
       "      <th>247</th>\n",
       "      <td>114</td>\n",
       "      <td>0.979165</td>\n",
       "      <td>0.981495</td>\n",
       "      <td>0.782731</td>\n",
       "    </tr>\n",
       "    <tr>\n",
       "      <th>248</th>\n",
       "      <td>177</td>\n",
       "      <td>0.513536</td>\n",
       "      <td>0.694852</td>\n",
       "      <td>0.832595</td>\n",
       "    </tr>\n",
       "    <tr>\n",
       "      <th>249</th>\n",
       "      <td>229</td>\n",
       "      <td>0.873557</td>\n",
       "      <td>0.620084</td>\n",
       "      <td>0.938405</td>\n",
       "    </tr>\n",
       "  </tbody>\n",
       "</table>\n",
       "<p>250 rows × 4 columns</p>\n",
       "</div>"
      ],
      "text/plain": [
       "       0         2         3         4\n",
       "0     36  0.331316  0.026683  0.160130\n",
       "1     21  0.228327  0.238400  0.290456\n",
       "2    226  0.097822  0.447153  0.045229\n",
       "3    216  0.141983  0.276363  0.154604\n",
       "4    162  0.186804  0.108334  0.152810\n",
       "..   ...       ...       ...       ...\n",
       "245   39  0.655349  0.689952  0.912165\n",
       "246  246  0.624092  0.866215  0.869713\n",
       "247  114  0.979165  0.981495  0.782731\n",
       "248  177  0.513536  0.694852  0.832595\n",
       "249  229  0.873557  0.620084  0.938405\n",
       "\n",
       "[250 rows x 4 columns]"
      ]
     },
     "execution_count": 47,
     "metadata": {},
     "output_type": "execute_result"
    }
   ],
   "source": [
    "# data=plumed.read_as_pandas(\"metadNa/dump/dump350.50000.lammpstrj\")\n",
    "import pandas as pd\n",
    "from pandas import read_csv\n",
    "#load dataset\n",
    "df = pd.read_csv('metadNa/dump/dump350.50000.lammpstrj',\n",
    "                 header=None,delimiter= ' ',usecols=[0,2,3,4], skiprows=9, skipfooter=259)\n",
    "df"
   ]
  },
  {
   "cell_type": "code",
   "execution_count": 51,
   "id": "cd577466",
   "metadata": {},
   "outputs": [
    {
     "data": {
      "text/plain": [
       "0      0.331316\n",
       "1      0.228327\n",
       "2      0.097822\n",
       "3      0.141983\n",
       "4      0.186804\n",
       "         ...   \n",
       "245    0.655349\n",
       "246    0.624092\n",
       "247    0.979165\n",
       "248    0.513536\n",
       "249    0.873557\n",
       "Name: 2, Length: 250, dtype: float64"
      ]
     },
     "execution_count": 51,
     "metadata": {},
     "output_type": "execute_result"
    }
   ],
   "source": [
    "df.loc[:,2]"
   ]
  },
  {
   "cell_type": "code",
   "execution_count": null,
   "id": "b6c1ae95",
   "metadata": {},
   "outputs": [],
   "source": [
    "fig = plt.figure(figsize=(12, 12))\n",
    "ax = fig.add_subplot(projection='3d')\n",
    "ax.scatter(sequence_containing_x_vals, sequence_containing_y_vals, sequence_containing_z_vals)\n",
    "plt.show()"
   ]
  }
 ],
 "metadata": {
  "kernelspec": {
   "display_name": "Python 3 (ipykernel)",
   "language": "python",
   "name": "python3"
  },
  "language_info": {
   "codemirror_mode": {
    "name": "ipython",
    "version": 3
   },
   "file_extension": ".py",
   "mimetype": "text/x-python",
   "name": "python",
   "nbconvert_exporter": "python",
   "pygments_lexer": "ipython3",
   "version": "3.10.6"
  }
 },
 "nbformat": 4,
 "nbformat_minor": 5
}
